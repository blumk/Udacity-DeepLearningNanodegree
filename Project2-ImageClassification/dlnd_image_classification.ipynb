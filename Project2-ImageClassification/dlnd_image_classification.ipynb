{
 "cells": [
  {
   "cell_type": "markdown",
   "metadata": {
    "collapsed": true,
    "deletable": true,
    "editable": true
   },
   "source": [
    "# Image Classification\n",
    "In this project, you'll classify images from the [CIFAR-10 dataset](https://www.cs.toronto.edu/~kriz/cifar.html).  The dataset consists of airplanes, dogs, cats, and other objects. You'll preprocess the images, then train a convolutional neural network on all the samples. The images need to be normalized and the labels need to be one-hot encoded.  You'll get to apply what you learned and build a convolutional, max pooling, dropout, and fully connected layers.  At the end, you'll get to see your neural network's predictions on the sample images.\n",
    "## Get the Data\n",
    "Run the following cell to download the [CIFAR-10 dataset for python](https://www.cs.toronto.edu/~kriz/cifar-10-python.tar.gz)."
   ]
  },
  {
   "cell_type": "code",
   "execution_count": 1,
   "metadata": {
    "collapsed": false,
    "deletable": true,
    "editable": true
   },
   "outputs": [
    {
     "name": "stderr",
     "output_type": "stream",
     "text": [
      "CIFAR-10 Dataset: 171MB [00:35, 4.78MB/s]                              \n"
     ]
    },
    {
     "name": "stdout",
     "output_type": "stream",
     "text": [
      "All files found!\n"
     ]
    }
   ],
   "source": [
    "\"\"\"\n",
    "DON'T MODIFY ANYTHING IN THIS CELL THAT IS BELOW THIS LINE\n",
    "\"\"\"\n",
    "from urllib.request import urlretrieve\n",
    "from os.path import isfile, isdir\n",
    "from tqdm import tqdm\n",
    "import problem_unittests as tests\n",
    "import tarfile\n",
    "\n",
    "cifar10_dataset_folder_path = 'cifar-10-batches-py'\n",
    "\n",
    "class DLProgress(tqdm):\n",
    "    last_block = 0\n",
    "\n",
    "    def hook(self, block_num=1, block_size=1, total_size=None):\n",
    "        self.total = total_size\n",
    "        self.update((block_num - self.last_block) * block_size)\n",
    "        self.last_block = block_num\n",
    "\n",
    "if not isfile('cifar-10-python.tar.gz'):\n",
    "    with DLProgress(unit='B', unit_scale=True, miniters=1, desc='CIFAR-10 Dataset') as pbar:\n",
    "        urlretrieve(\n",
    "            'https://www.cs.toronto.edu/~kriz/cifar-10-python.tar.gz',\n",
    "            'cifar-10-python.tar.gz',\n",
    "            pbar.hook)\n",
    "\n",
    "if not isdir(cifar10_dataset_folder_path):\n",
    "    with tarfile.open('cifar-10-python.tar.gz') as tar:\n",
    "        tar.extractall()\n",
    "        tar.close()\n",
    "\n",
    "\n",
    "tests.test_folder_path(cifar10_dataset_folder_path)"
   ]
  },
  {
   "cell_type": "markdown",
   "metadata": {
    "deletable": true,
    "editable": true
   },
   "source": [
    "## Explore the Data\n",
    "The dataset is broken into batches to prevent your machine from running out of memory.  The CIFAR-10 dataset consists of 5 batches, named `data_batch_1`, `data_batch_2`, etc.. Each batch contains the labels and images that are one of the following:\n",
    "* airplane\n",
    "* automobile\n",
    "* bird\n",
    "* cat\n",
    "* deer\n",
    "* dog\n",
    "* frog\n",
    "* horse\n",
    "* ship\n",
    "* truck\n",
    "\n",
    "Understanding a dataset is part of making predictions on the data.  Play around with the code cell below by changing the `batch_id` and `sample_id`. The `batch_id` is the id for a batch (1-5). The `sample_id` is the id for a image and label pair in the batch.\n",
    "\n",
    "Ask yourself \"What are all possible labels?\", \"What is the range of values for the image data?\", \"Are the labels in order or random?\".  Answers to questions like these will help you preprocess the data and end up with better predictions."
   ]
  },
  {
   "cell_type": "code",
   "execution_count": 4,
   "metadata": {
    "collapsed": false,
    "deletable": true,
    "editable": true
   },
   "outputs": [
    {
     "name": "stdout",
     "output_type": "stream",
     "text": [
      "\n",
      "Stats of batch 2:\n",
      "Samples: 10000\n",
      "Label Counts: {0: 984, 1: 1007, 2: 1010, 3: 995, 4: 1010, 5: 988, 6: 1008, 7: 1026, 8: 987, 9: 985}\n",
      "First 20 Labels: [1, 6, 6, 8, 8, 3, 4, 6, 0, 6, 0, 3, 6, 6, 5, 4, 8, 3, 2, 6]\n",
      "\n",
      "Example of Image 6:\n",
      "Image - Min Value: 0 Max Value: 235\n",
      "Image - Shape: (32, 32, 3)\n",
      "Label - Label Id: 4 Name: deer\n"
     ]
    },
    {
     "data": {
      "image/png": "[encoded data removed]",
      "text/plain": [
       "<matplotlib.figure.Figure at 0x7fde971b3240>"
      ]
     },
     "metadata": {
      "image/png": {
       "height": 250,
       "width": 253
      }
     },
     "output_type": "display_data"
    }
   ],
   "source": [
    "%matplotlib inline\n",
    "%config InlineBackend.figure_format = 'retina'\n",
    "\n",
    "import helper\n",
    "import numpy as np\n",
    "\n",
    "# Explore the dataset\n",
    "batch_id = 2\n",
    "sample_id = 6\n",
    "helper.display_stats(cifar10_dataset_folder_path, batch_id, sample_id)"
   ]
  },
  {
   "cell_type": "markdown",
   "metadata": {
    "deletable": true,
    "editable": true
   },
   "source": [
    "## Implement Preprocess Functions\n",
    "### Normalize\n",
    "In the cell below, implement the `normalize` function to take in image data, `x`, and return it as a normalized Numpy array. The values should be in the range of 0 to 1, inclusive.  The return object should be the same shape as `x`."
   ]
  },
  {
   "cell_type": "code",
   "execution_count": 6,
   "metadata": {
    "collapsed": false,
    "deletable": true,
    "editable": true
   },
   "outputs": [
    {
     "name": "stdout",
     "output_type": "stream",
     "text": [
      "Tests Passed\n"
     ]
    }
   ],
   "source": [
    "def normalize(x):\n",
    "    \"\"\"\n",
    "    Normalize a list of sample image data in the range of 0 to 1\n",
    "    : x: List of image data.  The image shape is (32, 32, 3)\n",
    "    : return: Numpy array of normalize data\n",
    "    \"\"\"\n",
    "    # image data is 0-255.\n",
    "    return x/255.\n",
    "\n",
    "\n",
    "\"\"\"\n",
    "DON'T MODIFY ANYTHING IN THIS CELL THAT IS BELOW THIS LINE\n",
    "\"\"\"\n",
    "tests.test_normalize(normalize)"
   ]
  },
  {
   "cell_type": "markdown",
   "metadata": {
    "deletable": true,
    "editable": true
   },
   "source": [
    "### One-hot encode\n",
    "Just like the previous code cell, you'll be implementing a function for preprocessing.  This time, you'll implement the `one_hot_encode` function. The input, `x`, are a list of labels.  Implement the function to return the list of labels as One-Hot encoded Numpy array.  The possible values for labels are 0 to 9. The one-hot encoding function should return the same encoding for each value between each call to `one_hot_encode`.  Make sure to save the map of encodings outside the function.\n",
    "\n",
    "Hint: Don't reinvent the wheel."
   ]
  },
  {
   "cell_type": "code",
   "execution_count": 14,
   "metadata": {
    "collapsed": false,
    "deletable": true,
    "editable": true
   },
   "outputs": [
    {
     "name": "stdout",
     "output_type": "stream",
     "text": [
      "Tests Passed\n"
     ]
    }
   ],
   "source": [
    "from sklearn.preprocessing import OneHotEncoder\n",
    "\n",
    "def one_hot_encode(x):\n",
    "    \"\"\"\n",
    "    One hot encode a list of sample labels. Return a one-hot encoded vector for each label.\n",
    "    : x: List of sample Labels\n",
    "    : return: Numpy array of one-hot encoded labels\n",
    "    \"\"\"\n",
    "    encoder = OneHotEncoder(10, sparse=False)    \n",
    "    return encoder.fit_transform(np.array(x).reshape(-1, 1))\n",
    "\n",
    "\n",
    "\"\"\"\n",
    "DON'T MODIFY ANYTHING IN THIS CELL THAT IS BELOW THIS LINE\n",
    "\"\"\"\n",
    "tests.test_one_hot_encode(one_hot_encode)"
   ]
  },
  {
   "cell_type": "markdown",
   "metadata": {
    "deletable": true,
    "editable": true
   },
   "source": [
    "### Randomize Data\n",
    "As you saw from exploring the data above, the order of the samples are randomized.  It doesn't hurt to randomize it again, but you don't need to for this dataset."
   ]
  },
  {
   "cell_type": "markdown",
   "metadata": {
    "deletable": true,
    "editable": true
   },
   "source": [
    "## Preprocess all the data and save it\n",
    "Running the code cell below will preprocess all the CIFAR-10 data and save it to file. The code below also uses 10% of the training data for validation."
   ]
  },
  {
   "cell_type": "code",
   "execution_count": 9,
   "metadata": {
    "collapsed": false,
    "deletable": true,
    "editable": true
   },
   "outputs": [],
   "source": [
    "\"\"\"\n",
    "DON'T MODIFY ANYTHING IN THIS CELL\n",
    "\"\"\"\n",
    "# Preprocess Training, Validation, and Testing Data\n",
    "helper.preprocess_and_save_data(cifar10_dataset_folder_path, normalize, one_hot_encode)"
   ]
  },
  {
   "cell_type": "markdown",
   "metadata": {
    "deletable": true,
    "editable": true
   },
   "source": [
    "# Check Point\n",
    "This is your first checkpoint.  If you ever decide to come back to this notebook or have to restart the notebook, you can start from here.  The preprocessed data has been saved to disk."
   ]
  },
  {
   "cell_type": "code",
   "execution_count": 10,
   "metadata": {
    "collapsed": true,
    "deletable": true,
    "editable": true
   },
   "outputs": [],
   "source": [
    "\"\"\"\n",
    "DON'T MODIFY ANYTHING IN THIS CELL\n",
    "\"\"\"\n",
    "import pickle\n",
    "import problem_unittests as tests\n",
    "import helper\n",
    "\n",
    "# Load the Preprocessed Validation data\n",
    "valid_features, valid_labels = pickle.load(open('preprocess_validation.p', mode='rb'))"
   ]
  },
  {
   "cell_type": "markdown",
   "metadata": {
    "deletable": true,
    "editable": true
   },
   "source": [
    "## Build the network\n",
    "For the neural network, you'll build each layer into a function.  Most of the code you've seen has been outside of functions. To test your code more thoroughly, we require that you put each layer in a function.  This allows us to give you better feedback and test for simple mistakes using our unittests before you submit your project.\n",
    "\n",
    ">**Note:** If you're finding it hard to dedicate enough time for this course each week, we've provided a small shortcut to this part of the project. In the next couple of problems, you'll have the option to use classes from the [TensorFlow Layers](https://www.tensorflow.org/api_docs/python/tf/layers) or [TensorFlow Layers (contrib)](https://www.tensorflow.org/api_guides/python/contrib.layers) packages to build each layer, except the layers you build in the \"Convolutional and Max Pooling Layer\" section.  TF Layers is similar to Keras's and TFLearn's abstraction to layers, so it's easy to pickup.\n",
    "\n",
    ">However, if you would like to get the most out of this course, try to solve all the problems _without_ using anything from the TF Layers packages. You **can** still use classes from other packages that happen to have the same name as ones you find in TF Layers! For example, instead of using the TF Layers version of the `conv2d` class, [tf.layers.conv2d](https://www.tensorflow.org/api_docs/python/tf/layers/conv2d), you would want to use the TF Neural Network version of `conv2d`, [tf.nn.conv2d](https://www.tensorflow.org/api_docs/python/tf/nn/conv2d). \n",
    "\n",
    "Let's begin!\n",
    "\n",
    "### Input\n",
    "The neural network needs to read the image data, one-hot encoded labels, and dropout keep probability. Implement the following functions\n",
    "* Implement `neural_net_image_input`\n",
    " * Return a [TF Placeholder](https://www.tensorflow.org/api_docs/python/tf/placeholder)\n",
    " * Set the shape using `image_shape` with batch size set to `None`.\n",
    " * Name the TensorFlow placeholder \"x\" using the TensorFlow `name` parameter in the [TF Placeholder](https://www.tensorflow.org/api_docs/python/tf/placeholder).\n",
    "* Implement `neural_net_label_input`\n",
    " * Return a [TF Placeholder](https://www.tensorflow.org/api_docs/python/tf/placeholder)\n",
    " * Set the shape using `n_classes` with batch size set to `None`.\n",
    " * Name the TensorFlow placeholder \"y\" using the TensorFlow `name` parameter in the [TF Placeholder](https://www.tensorflow.org/api_docs/python/tf/placeholder).\n",
    "* Implement `neural_net_keep_prob_input`\n",
    " * Return a [TF Placeholder](https://www.tensorflow.org/api_docs/python/tf/placeholder) for dropout keep probability.\n",
    " * Name the TensorFlow placeholder \"keep_prob\" using the TensorFlow `name` parameter in the [TF Placeholder](https://www.tensorflow.org/api_docs/python/tf/placeholder).\n",
    "\n",
    "These names will be used at the end of the project to load your saved model.\n",
    "\n",
    "Note: `None` for shapes in TensorFlow allow for a dynamic size."
   ]
  },
  {
   "cell_type": "code",
   "execution_count": 11,
   "metadata": {
    "collapsed": false,
    "deletable": true,
    "editable": true
   },
   "outputs": [
    {
     "name": "stdout",
     "output_type": "stream",
     "text": [
      "Image Input Tests Passed.\n",
      "Label Input Tests Passed.\n",
      "Keep Prob Tests Passed.\n"
     ]
    }
   ],
   "source": [
    "import tensorflow as tf\n",
    "\n",
    "def neural_net_image_input(image_shape):\n",
    "    \"\"\"\n",
    "    Return a Tensor for a bach of image input\n",
    "    : image_shape: Shape of the images\n",
    "    : return: Tensor for image input.\n",
    "    \"\"\"\n",
    "    return tf.placeholder(tf.float32, shape=[None, image_shape[0], image_shape[1], image_shape[2]], name='x')\n",
    "\n",
    "\n",
    "def neural_net_label_input(n_classes):\n",
    "    \"\"\"\n",
    "    Return a Tensor for a batch of label input\n",
    "    : n_classes: Number of classes\n",
    "    : return: Tensor for label input.\n",
    "    \"\"\"\n",
    "    return tf.placeholder(tf.int32, shape=[None, n_classes], name='y')\n",
    "\n",
    "\n",
    "def neural_net_keep_prob_input():\n",
    "    \"\"\"\n",
    "    Return a Tensor for keep probability\n",
    "    : return: Tensor for keep probability.\n",
    "    \"\"\"\n",
    "    return tf.placeholder(tf.float32, name='keep_prob')\n",
    "\n",
    "\n",
    "\"\"\"\n",
    "DON'T MODIFY ANYTHING IN THIS CELL THAT IS BELOW THIS LINE\n",
    "\"\"\"\n",
    "tf.reset_default_graph()\n",
    "tests.test_nn_image_inputs(neural_net_image_input)\n",
    "tests.test_nn_label_inputs(neural_net_label_input)\n",
    "tests.test_nn_keep_prob_inputs(neural_net_keep_prob_input)"
   ]
  },
  {
   "cell_type": "markdown",
   "metadata": {
    "deletable": true,
    "editable": true
   },
   "source": [
    "### Convolution and Max Pooling Layer\n",
    "Convolution layers have a lot of success with images. For this code cell, you should implement the function `conv2d_maxpool` to apply convolution then max pooling:\n",
    "* Create the weight and bias using `conv_ksize`, `conv_num_outputs` and the shape of `x_tensor`.\n",
    "* Apply a convolution to `x_tensor` using weight and `conv_strides`.\n",
    " * We recommend you use same padding, but you're welcome to use any padding.\n",
    "* Add bias\n",
    "* Add a nonlinear activation to the convolution.\n",
    "* Apply Max Pooling using `pool_ksize` and `pool_strides`.\n",
    " * We recommend you use same padding, but you're welcome to use any padding.\n",
    "\n",
    "**Note:** You **can't** use [TensorFlow Layers](https://www.tensorflow.org/api_docs/python/tf/layers) or [TensorFlow Layers (contrib)](https://www.tensorflow.org/api_guides/python/contrib.layers) for **this** layer, but you can still use TensorFlow's [Neural Network](https://www.tensorflow.org/api_docs/python/tf/nn) package. You may still use the shortcut option for all the **other** layers."
   ]
  },
  {
   "cell_type": "code",
   "execution_count": 15,
   "metadata": {
    "collapsed": false,
    "deletable": true,
    "editable": true
   },
   "outputs": [
    {
     "name": "stdout",
     "output_type": "stream",
     "text": [
      "Tests Passed\n"
     ]
    }
   ],
   "source": [
    "def conv2d_maxpool(x_tensor, conv_num_outputs, conv_ksize, conv_strides, pool_ksize, pool_strides):\n",
    "    \"\"\"\n",
    "    Apply convolution then max pooling to x_tensor\n",
    "    :param x_tensor: TensorFlow Tensor\n",
    "    :param conv_num_outputs: Number of outputs for the convolutional layer\n",
    "    :param conv_ksize: kernal size 2-D Tuple for the convolutional layer\n",
    "    :param conv_strides: Stride 2-D Tuple for convolution\n",
    "    :param pool_ksize: kernal size 2-D Tuple for pool\n",
    "    :param pool_strides: Stride 2-D Tuple for pool\n",
    "    : return: A tensor that represents convolution and max pooling of x_tensor\n",
    "    \"\"\"\n",
    "    input_channels = x_tensor.get_shape()[3].value\n",
    "    bias = tf.Variable(tf.random_normal([conv_num_outputs]))\n",
    "    weight = tf.Variable(tf.random_normal([conv_ksize[0], conv_ksize[1], input_channels, conv_num_outputs]))\n",
    "    \n",
    "    # Apply the convolution to the input, add bias, add relu & perform max pooling\n",
    "    output = tf.nn.conv2d(x_tensor, weight, [1, conv_strides[0], conv_strides[1], 1], padding='SAME')\n",
    "    output = tf.nn.bias_add(output, bias)\n",
    "    output = tf.nn.relu(output)\n",
    "    output = tf.nn.max_pool(output, [1, pool_ksize[0], pool_ksize[1], 1], [1, pool_strides[0], pool_strides[1], 1], padding='SAME')\n",
    "    return output  \n",
    "\n",
    "\n",
    "\"\"\"\n",
    "DON'T MODIFY ANYTHING IN THIS CELL THAT IS BELOW THIS LINE\n",
    "\"\"\"\n",
    "tests.test_con_pool(conv2d_maxpool)"
   ]
  },
  {
   "cell_type": "markdown",
   "metadata": {
    "deletable": true,
    "editable": true
   },
   "source": [
    "### Flatten Layer\n",
    "Implement the `flatten` function to change the dimension of `x_tensor` from a 4-D tensor to a 2-D tensor.  The output should be the shape (*Batch Size*, *Flattened Image Size*). Shortcut option: you can use classes from the [TensorFlow Layers](https://www.tensorflow.org/api_docs/python/tf/layers) or [TensorFlow Layers (contrib)](https://www.tensorflow.org/api_guides/python/contrib.layers) packages for this layer. For more of a challenge, only use other TensorFlow packages."
   ]
  },
  {
   "cell_type": "code",
   "execution_count": 16,
   "metadata": {
    "collapsed": false,
    "deletable": true,
    "editable": true
   },
   "outputs": [
    {
     "name": "stdout",
     "output_type": "stream",
     "text": [
      "Tests Passed\n"
     ]
    }
   ],
   "source": [
    "def flatten(x_tensor):\n",
    "    \"\"\"\n",
    "    Flatten x_tensor to (Batch Size, Flattened Image Size)\n",
    "    : x_tensor: A tensor of size (Batch Size, ...), where ... are the image dimensions.\n",
    "    : return: A tensor of size (Batch Size, Flattened Image Size).\n",
    "    \"\"\"\n",
    "    return tf.contrib.layers.flatten(x_tensor)\n",
    "\n",
    "\n",
    "\"\"\"\n",
    "DON'T MODIFY ANYTHING IN THIS CELL THAT IS BELOW THIS LINE\n",
    "\"\"\"\n",
    "tests.test_flatten(flatten)"
   ]
  },
  {
   "cell_type": "markdown",
   "metadata": {
    "deletable": true,
    "editable": true
   },
   "source": [
    "### Fully-Connected Layer\n",
    "Implement the `fully_conn` function to apply a fully connected layer to `x_tensor` with the shape (*Batch Size*, *num_outputs*). Shortcut option: you can use classes from the [TensorFlow Layers](https://www.tensorflow.org/api_docs/python/tf/layers) or [TensorFlow Layers (contrib)](https://www.tensorflow.org/api_guides/python/contrib.layers) packages for this layer. For more of a challenge, only use other TensorFlow packages."
   ]
  },
  {
   "cell_type": "code",
   "execution_count": 17,
   "metadata": {
    "collapsed": false,
    "deletable": true,
    "editable": true
   },
   "outputs": [
    {
     "name": "stdout",
     "output_type": "stream",
     "text": [
      "Tests Passed\n"
     ]
    }
   ],
   "source": [
    "def fully_conn(x_tensor, num_outputs):\n",
    "    \"\"\"\n",
    "    Apply a fully connected layer to x_tensor using weight and bias\n",
    "    : x_tensor: A 2-D tensor where the first dimension is batch size.\n",
    "    : num_outputs: The number of output that the new tensor should be.\n",
    "    : return: A 2-D tensor where the second dimension is num_outputs.\n",
    "    \"\"\"\n",
    "    return tf.contrib.layers.fully_connected(x_tensor, num_outputs, activation_fn=tf.nn.relu)\n",
    "\n",
    "\n",
    "\"\"\"\n",
    "DON'T MODIFY ANYTHING IN THIS CELL THAT IS BELOW THIS LINE\n",
    "\"\"\"\n",
    "tests.test_fully_conn(fully_conn)"
   ]
  },
  {
   "cell_type": "markdown",
   "metadata": {
    "deletable": true,
    "editable": true
   },
   "source": [
    "### Output Layer\n",
    "Implement the `output` function to apply a fully connected layer to `x_tensor` with the shape (*Batch Size*, *num_outputs*). Shortcut option: you can use classes from the [TensorFlow Layers](https://www.tensorflow.org/api_docs/python/tf/layers) or [TensorFlow Layers (contrib)](https://www.tensorflow.org/api_guides/python/contrib.layers) packages for this layer. For more of a challenge, only use other TensorFlow packages.\n",
    "\n",
    "**Note:** Activation, softmax, or cross entropy should **not** be applied to this."
   ]
  },
  {
   "cell_type": "code",
   "execution_count": 18,
   "metadata": {
    "collapsed": false,
    "deletable": true,
    "editable": true
   },
   "outputs": [
    {
     "name": "stdout",
     "output_type": "stream",
     "text": [
      "Tests Passed\n"
     ]
    }
   ],
   "source": [
    "def output(x_tensor, num_outputs):\n",
    "    \"\"\"\n",
    "    Apply a output layer to x_tensor using weight and bias\n",
    "    : x_tensor: A 2-D tensor where the first dimension is batch size.\n",
    "    : num_outputs: The number of output that the new tensor should be.\n",
    "    : return: A 2-D tensor where the second dimension is num_outputs.\n",
    "    \"\"\"\n",
    "    return tf.contrib.layers.fully_connected(x_tensor, num_outputs, activation_fn=None)\n",
    "\n",
    "\n",
    "\"\"\"\n",
    "DON'T MODIFY ANYTHING IN THIS CELL THAT IS BELOW THIS LINE\n",
    "\"\"\"\n",
    "tests.test_output(output)"
   ]
  },
  {
   "cell_type": "markdown",
   "metadata": {
    "deletable": true,
    "editable": true
   },
   "source": [
    "### Create Convolutional Model\n",
    "Implement the function `conv_net` to create a convolutional neural network model. The function takes in a batch of images, `x`, and outputs logits.  Use the layers you created above to create this model:\n",
    "\n",
    "* Apply 1, 2, or 3 Convolution and Max Pool layers\n",
    "* Apply a Flatten Layer\n",
    "* Apply 1, 2, or 3 Fully Connected Layers\n",
    "* Apply an Output Layer\n",
    "* Return the output\n",
    "* Apply [TensorFlow's Dropout](https://www.tensorflow.org/api_docs/python/tf/nn/dropout) to one or more layers in the model using `keep_prob`. "
   ]
  },
  {
   "cell_type": "code",
   "execution_count": 26,
   "metadata": {
    "collapsed": false,
    "deletable": true,
    "editable": true
   },
   "outputs": [
    {
     "name": "stdout",
     "output_type": "stream",
     "text": [
      "Neural Network Built!\n"
     ]
    }
   ],
   "source": [
    "def conv_net(x, keep_prob):\n",
    "    \"\"\"\n",
    "    Create a convolutional neural network model\n",
    "    : x: Placeholder tensor that holds image data.\n",
    "    : keep_prob: Placeholder tensor that hold dropout keep probability.\n",
    "    : return: Tensor that represents logits\n",
    "    \"\"\"\n",
    "    # Apply 1, 2, or 3 Convolution and Max Pool layers\n",
    "    #    Play around with different number of outputs, kernel size and stride\n",
    "    model = conv2d_maxpool(x, 16, [3, 3], [1, 1], [2, 2], [2, 2])\n",
    "    model = tf.contrib.layers.batch_norm(model)\n",
    "    model = conv2d_maxpool(model, 32, [3, 3], [1, 1], [2, 2], [2, 2])\n",
    "    model = tf.contrib.layers.batch_norm(model)\n",
    "\n",
    "    # Flatten Layer\n",
    "    model = flatten(model)\n",
    "\n",
    "    # Apply 1, 2, or 3 Fully Connected Layers\n",
    "    #    Play around with different number of outputs\n",
    "    model = fully_conn(model, 256)\n",
    "    model = fully_conn(model, 256)\n",
    "    model = fully_conn(model, 256)    \n",
    "    \n",
    "    # Output Layer\n",
    "    model = tf.nn.dropout(model, keep_prob)\n",
    "    model = output(model, 10)\n",
    "\n",
    "    return model\n",
    "\n",
    "\n",
    "\"\"\"\n",
    "DON'T MODIFY ANYTHING IN THIS CELL THAT IS BELOW THIS LINE\n",
    "\"\"\"\n",
    "\n",
    "##############################\n",
    "## Build the Neural Network ##\n",
    "##############################\n",
    "\n",
    "# Remove previous weights, bias, inputs, etc..\n",
    "tf.reset_default_graph()\n",
    "\n",
    "# Inputs\n",
    "x = neural_net_image_input((32, 32, 3))\n",
    "y = neural_net_label_input(10)\n",
    "keep_prob = neural_net_keep_prob_input()\n",
    "\n",
    "# Model\n",
    "logits = conv_net(x, keep_prob)\n",
    "\n",
    "# Name logits Tensor, so that is can be loaded from disk after training\n",
    "logits = tf.identity(logits, name='logits')\n",
    "\n",
    "# Loss and Optimizer\n",
    "cost = tf.reduce_mean(tf.nn.softmax_cross_entropy_with_logits(logits=logits, labels=y))\n",
    "optimizer = tf.train.AdamOptimizer().minimize(cost)\n",
    "\n",
    "# Accuracy\n",
    "correct_pred = tf.equal(tf.argmax(logits, 1), tf.argmax(y, 1))\n",
    "accuracy = tf.reduce_mean(tf.cast(correct_pred, tf.float32), name='accuracy')\n",
    "\n",
    "tests.test_conv_net(conv_net)"
   ]
  },
  {
   "cell_type": "markdown",
   "metadata": {
    "deletable": true,
    "editable": true
   },
   "source": [
    "## Train the Neural Network\n",
    "### Single Optimization\n",
    "Implement the function `train_neural_network` to do a single optimization.  The optimization should use `optimizer` to optimize in `session` with a `feed_dict` of the following:\n",
    "* `x` for image input\n",
    "* `y` for labels\n",
    "* `keep_prob` for keep probability for dropout\n",
    "\n",
    "This function will be called for each batch, so `tf.global_variables_initializer()` has already been called.\n",
    "\n",
    "Note: Nothing needs to be returned. This function is only optimizing the neural network."
   ]
  },
  {
   "cell_type": "code",
   "execution_count": 27,
   "metadata": {
    "collapsed": false,
    "deletable": true,
    "editable": true
   },
   "outputs": [
    {
     "name": "stdout",
     "output_type": "stream",
     "text": [
      "Tests Passed\n"
     ]
    }
   ],
   "source": [
    "def train_neural_network(session, optimizer, keep_probability, feature_batch, label_batch):\n",
    "    \"\"\"\n",
    "    Optimize the session on a batch of images and labels\n",
    "    : session: Current TensorFlow session\n",
    "    : optimizer: TensorFlow optimizer function\n",
    "    : keep_probability: keep probability\n",
    "    : feature_batch: Batch of Numpy image data\n",
    "    : label_batch: Batch of Numpy label data\n",
    "    \"\"\"\n",
    "    session.run(optimizer, feed_dict={x:feature_batch, y:label_batch, keep_prob:keep_probability})\n",
    "\n",
    "\n",
    "\"\"\"\n",
    "DON'T MODIFY ANYTHING IN THIS CELL THAT IS BELOW THIS LINE\n",
    "\"\"\"\n",
    "tests.test_train_nn(train_neural_network)"
   ]
  },
  {
   "cell_type": "markdown",
   "metadata": {
    "deletable": true,
    "editable": true
   },
   "source": [
    "### Show Stats\n",
    "Implement the function `print_stats` to print loss and validation accuracy.  Use the global variables `valid_features` and `valid_labels` to calculate validation accuracy.  Use a keep probability of `1.0` to calculate the loss and validation accuracy."
   ]
  },
  {
   "cell_type": "code",
   "execution_count": 28,
   "metadata": {
    "collapsed": false,
    "deletable": true,
    "editable": true
   },
   "outputs": [],
   "source": [
    "def print_stats(session, feature_batch, label_batch, cost, accuracy):\n",
    "    \"\"\"\n",
    "    Print information about loss and validation accuracy\n",
    "    : session: Current TensorFlow session\n",
    "    : feature_batch: Batch of Numpy image data\n",
    "    : label_batch: Batch of Numpy label data\n",
    "    : cost: TensorFlow cost function\n",
    "    : accuracy: TensorFlow accuracy function\n",
    "    \"\"\"\n",
    "    cost = session.run(cost, feed_dict={x:feature_batch, y:label_batch, keep_prob:1.0})\n",
    "    validation_accuracy = session.run(accuracy, feed_dict={x:valid_features, y:valid_labels, keep_prob:1.0})\n",
    "    print('cost %f, acc %f' % (cost, validation_accuracy))"
   ]
  },
  {
   "cell_type": "markdown",
   "metadata": {
    "deletable": true,
    "editable": true
   },
   "source": [
    "### Hyperparameters\n",
    "Tune the following parameters:\n",
    "* Set `epochs` to the number of iterations until the network stops learning or start overfitting\n",
    "* Set `batch_size` to the highest number that your machine has memory for.  Most people set them to common sizes of memory:\n",
    " * 64\n",
    " * 128\n",
    " * 256\n",
    " * ...\n",
    "* Set `keep_probability` to the probability of keeping a node using dropout"
   ]
  },
  {
   "cell_type": "code",
   "execution_count": 29,
   "metadata": {
    "collapsed": true,
    "deletable": true,
    "editable": true
   },
   "outputs": [],
   "source": [
    "# TODO: Tune Parameters\n",
    "epochs = 48\n",
    "batch_size = 256\n",
    "keep_probability = 0.95"
   ]
  },
  {
   "cell_type": "markdown",
   "metadata": {
    "deletable": true,
    "editable": true
   },
   "source": [
    "### Train on a Single CIFAR-10 Batch\n",
    "Instead of training the neural network on all the CIFAR-10 batches of data, let's use a single batch. This should save time while you iterate on the model to get a better accuracy.  Once the final validation accuracy is 50% or greater, run the model on all the data in the next section."
   ]
  },
  {
   "cell_type": "code",
   "execution_count": 30,
   "metadata": {
    "collapsed": false,
    "deletable": true,
    "editable": true
   },
   "outputs": [
    {
     "name": "stdout",
     "output_type": "stream",
     "text": [
      "Checking the Training on a Single Batch...\n",
      "Epoch  1, CIFAR-10 Batch 1:  cost 1.537727, acc 0.447800\n",
      "Epoch  2, CIFAR-10 Batch 1:  cost 0.727824, acc 0.486200\n",
      "Epoch  3, CIFAR-10 Batch 1:  cost 0.347019, acc 0.500200\n",
      "Epoch  4, CIFAR-10 Batch 1:  cost 0.158858, acc 0.492600\n",
      "Epoch  5, CIFAR-10 Batch 1:  cost 0.082202, acc 0.521200\n",
      "Epoch  6, CIFAR-10 Batch 1:  cost 0.069775, acc 0.497400\n",
      "Epoch  7, CIFAR-10 Batch 1:  cost 0.066784, acc 0.492800\n",
      "Epoch  8, CIFAR-10 Batch 1:  cost 0.048789, acc 0.477400\n",
      "Epoch  9, CIFAR-10 Batch 1:  cost 0.014216, acc 0.506000\n",
      "Epoch 10, CIFAR-10 Batch 1:  cost 0.016281, acc 0.500000\n",
      "Epoch 11, CIFAR-10 Batch 1:  cost 0.003209, acc 0.526800\n",
      "Epoch 12, CIFAR-10 Batch 1:  cost 0.002246, acc 0.534400\n",
      "Epoch 13, CIFAR-10 Batch 1:  cost 0.002895, acc 0.534000\n",
      "Epoch 14, CIFAR-10 Batch 1:  cost 0.005962, acc 0.509000\n",
      "Epoch 15, CIFAR-10 Batch 1:  cost 0.003223, acc 0.516400\n",
      "Epoch 16, CIFAR-10 Batch 1:  cost 0.002218, acc 0.514600\n",
      "Epoch 17, CIFAR-10 Batch 1:  cost 0.000779, acc 0.522400\n",
      "Epoch 18, CIFAR-10 Batch 1:  cost 0.002128, acc 0.518000\n",
      "Epoch 19, CIFAR-10 Batch 1:  cost 0.002653, acc 0.515600\n",
      "Epoch 20, CIFAR-10 Batch 1:  cost 0.003508, acc 0.517400\n",
      "Epoch 21, CIFAR-10 Batch 1:  cost 0.004469, acc 0.528800\n",
      "Epoch 22, CIFAR-10 Batch 1:  cost 0.002946, acc 0.514200\n",
      "Epoch 23, CIFAR-10 Batch 1:  cost 0.000250, acc 0.529400\n",
      "Epoch 24, CIFAR-10 Batch 1:  cost 0.000218, acc 0.541600\n",
      "Epoch 25, CIFAR-10 Batch 1:  cost 0.000186, acc 0.537800\n",
      "Epoch 26, CIFAR-10 Batch 1:  cost 0.000094, acc 0.539000\n",
      "Epoch 27, CIFAR-10 Batch 1:  cost 0.000055, acc 0.543400\n",
      "Epoch 28, CIFAR-10 Batch 1:  cost 0.000306, acc 0.541600\n",
      "Epoch 29, CIFAR-10 Batch 1:  cost 0.000065, acc 0.538000\n",
      "Epoch 30, CIFAR-10 Batch 1:  cost 0.000146, acc 0.534800\n",
      "Epoch 31, CIFAR-10 Batch 1:  cost 0.000026, acc 0.538000\n",
      "Epoch 32, CIFAR-10 Batch 1:  cost 0.000022, acc 0.539600\n",
      "Epoch 33, CIFAR-10 Batch 1:  cost 0.000019, acc 0.538600\n",
      "Epoch 34, CIFAR-10 Batch 1:  cost 0.000022, acc 0.537400\n",
      "Epoch 35, CIFAR-10 Batch 1:  cost 0.000031, acc 0.543400\n",
      "Epoch 36, CIFAR-10 Batch 1:  cost 0.000019, acc 0.542000\n",
      "Epoch 37, CIFAR-10 Batch 1:  cost 0.000016, acc 0.541800\n",
      "Epoch 38, CIFAR-10 Batch 1:  cost 0.000011, acc 0.543000\n",
      "Epoch 39, CIFAR-10 Batch 1:  cost 0.000010, acc 0.544000\n",
      "Epoch 40, CIFAR-10 Batch 1:  cost 0.000010, acc 0.543600\n",
      "Epoch 41, CIFAR-10 Batch 1:  cost 0.000009, acc 0.542800\n",
      "Epoch 42, CIFAR-10 Batch 1:  cost 0.000009, acc 0.543400\n",
      "Epoch 43, CIFAR-10 Batch 1:  cost 0.000008, acc 0.543400\n",
      "Epoch 44, CIFAR-10 Batch 1:  cost 0.000007, acc 0.543400\n",
      "Epoch 45, CIFAR-10 Batch 1:  cost 0.000007, acc 0.543800\n",
      "Epoch 46, CIFAR-10 Batch 1:  cost 0.000007, acc 0.544000\n",
      "Epoch 47, CIFAR-10 Batch 1:  cost 0.000006, acc 0.543200\n",
      "Epoch 48, CIFAR-10 Batch 1:  cost 0.000006, acc 0.543600\n"
     ]
    }
   ],
   "source": [
    "\"\"\"\n",
    "DON'T MODIFY ANYTHING IN THIS CELL\n",
    "\"\"\"\n",
    "print('Checking the Training on a Single Batch...')\n",
    "with tf.Session() as sess:\n",
    "    # Initializing the variables\n",
    "    sess.run(tf.global_variables_initializer())\n",
    "    \n",
    "    # Training cycle\n",
    "    for epoch in range(epochs):\n",
    "        batch_i = 1\n",
    "        for batch_features, batch_labels in helper.load_preprocess_training_batch(batch_i, batch_size):\n",
    "            train_neural_network(sess, optimizer, keep_probability, batch_features, batch_labels)\n",
    "        print('Epoch {:>2}, CIFAR-10 Batch {}:  '.format(epoch + 1, batch_i), end='')\n",
    "        print_stats(sess, batch_features, batch_labels, cost, accuracy)"
   ]
  },
  {
   "cell_type": "markdown",
   "metadata": {
    "deletable": true,
    "editable": true
   },
   "source": [
    "### Fully Train the Model\n",
    "Now that you got a good accuracy with a single CIFAR-10 batch, try it with all five batches."
   ]
  },
  {
   "cell_type": "code",
   "execution_count": 31,
   "metadata": {
    "collapsed": false,
    "deletable": true,
    "editable": true
   },
   "outputs": [
    {
     "name": "stdout",
     "output_type": "stream",
     "text": [
      "Training...\n",
      "Epoch  1, CIFAR-10 Batch 1:  cost 1.421581, acc 0.409200\n",
      "Epoch  1, CIFAR-10 Batch 2:  cost 1.059570, acc 0.475400\n",
      "Epoch  1, CIFAR-10 Batch 3:  cost 1.022867, acc 0.513200\n",
      "Epoch  1, CIFAR-10 Batch 4:  cost 0.936824, acc 0.544800\n",
      "Epoch  1, CIFAR-10 Batch 5:  cost 0.961926, acc 0.563600\n",
      "Epoch  2, CIFAR-10 Batch 1:  cost 0.759393, acc 0.566600\n",
      "Epoch  2, CIFAR-10 Batch 2:  cost 0.448108, acc 0.557600\n",
      "Epoch  2, CIFAR-10 Batch 3:  cost 0.338522, acc 0.581800\n",
      "Epoch  2, CIFAR-10 Batch 4:  cost 0.455429, acc 0.595200\n",
      "Epoch  2, CIFAR-10 Batch 5:  cost 0.414299, acc 0.598200\n",
      "Epoch  3, CIFAR-10 Batch 1:  cost 0.391386, acc 0.594000\n",
      "Epoch  3, CIFAR-10 Batch 2:  cost 0.158150, acc 0.586400\n",
      "Epoch  3, CIFAR-10 Batch 3:  cost 0.144669, acc 0.601600\n",
      "Epoch  3, CIFAR-10 Batch 4:  cost 0.188355, acc 0.607200\n",
      "Epoch  3, CIFAR-10 Batch 5:  cost 0.174580, acc 0.612000\n",
      "Epoch  4, CIFAR-10 Batch 1:  cost 0.244093, acc 0.611400\n",
      "Epoch  4, CIFAR-10 Batch 2:  cost 0.067811, acc 0.598000\n",
      "Epoch  4, CIFAR-10 Batch 3:  cost 0.084775, acc 0.604400\n",
      "Epoch  4, CIFAR-10 Batch 4:  cost 0.093618, acc 0.613200\n",
      "Epoch  4, CIFAR-10 Batch 5:  cost 0.074373, acc 0.617000\n",
      "Epoch  5, CIFAR-10 Batch 1:  cost 0.118956, acc 0.608200\n",
      "Epoch  5, CIFAR-10 Batch 2:  cost 0.036335, acc 0.580400\n",
      "Epoch  5, CIFAR-10 Batch 3:  cost 0.045911, acc 0.612000\n",
      "Epoch  5, CIFAR-10 Batch 4:  cost 0.041320, acc 0.597400\n",
      "Epoch  5, CIFAR-10 Batch 5:  cost 0.039146, acc 0.609800\n",
      "Epoch  6, CIFAR-10 Batch 1:  cost 0.065696, acc 0.587000\n",
      "Epoch  6, CIFAR-10 Batch 2:  cost 0.025629, acc 0.573200\n",
      "Epoch  6, CIFAR-10 Batch 3:  cost 0.026336, acc 0.613600\n",
      "Epoch  6, CIFAR-10 Batch 4:  cost 0.032951, acc 0.589800\n",
      "Epoch  6, CIFAR-10 Batch 5:  cost 0.023780, acc 0.592800\n",
      "Epoch  7, CIFAR-10 Batch 1:  cost 0.041587, acc 0.592800\n",
      "Epoch  7, CIFAR-10 Batch 2:  cost 0.023377, acc 0.576800\n",
      "Epoch  7, CIFAR-10 Batch 3:  cost 0.026047, acc 0.586200\n",
      "Epoch  7, CIFAR-10 Batch 4:  cost 0.023039, acc 0.596600\n",
      "Epoch  7, CIFAR-10 Batch 5:  cost 0.013262, acc 0.614200\n",
      "Epoch  8, CIFAR-10 Batch 1:  cost 0.031093, acc 0.589000\n",
      "Epoch  8, CIFAR-10 Batch 2:  cost 0.009722, acc 0.604200\n",
      "Epoch  8, CIFAR-10 Batch 3:  cost 0.009824, acc 0.609200\n",
      "Epoch  8, CIFAR-10 Batch 4:  cost 0.015187, acc 0.587000\n",
      "Epoch  8, CIFAR-10 Batch 5:  cost 0.017328, acc 0.612000\n",
      "Epoch  9, CIFAR-10 Batch 1:  cost 0.011470, acc 0.592600\n",
      "Epoch  9, CIFAR-10 Batch 2:  cost 0.010348, acc 0.607000\n",
      "Epoch  9, CIFAR-10 Batch 3:  cost 0.005910, acc 0.610200\n",
      "Epoch  9, CIFAR-10 Batch 4:  cost 0.012566, acc 0.614400\n",
      "Epoch  9, CIFAR-10 Batch 5:  cost 0.017866, acc 0.602600\n",
      "Epoch 10, CIFAR-10 Batch 1:  cost 0.009075, acc 0.593600\n",
      "Epoch 10, CIFAR-10 Batch 2:  cost 0.005068, acc 0.621000\n",
      "Epoch 10, CIFAR-10 Batch 3:  cost 0.004417, acc 0.599400\n",
      "Epoch 10, CIFAR-10 Batch 4:  cost 0.008074, acc 0.601000\n",
      "Epoch 10, CIFAR-10 Batch 5:  cost 0.008546, acc 0.599000\n",
      "Epoch 11, CIFAR-10 Batch 1:  cost 0.006180, acc 0.606400\n",
      "Epoch 11, CIFAR-10 Batch 2:  cost 0.005417, acc 0.610200\n",
      "Epoch 11, CIFAR-10 Batch 3:  cost 0.001934, acc 0.617400\n",
      "Epoch 11, CIFAR-10 Batch 4:  cost 0.005121, acc 0.610800\n",
      "Epoch 11, CIFAR-10 Batch 5:  cost 0.002944, acc 0.617800\n",
      "Epoch 12, CIFAR-10 Batch 1:  cost 0.003221, acc 0.617400\n",
      "Epoch 12, CIFAR-10 Batch 2:  cost 0.002620, acc 0.610000\n",
      "Epoch 12, CIFAR-10 Batch 3:  cost 0.003592, acc 0.602000\n",
      "Epoch 12, CIFAR-10 Batch 4:  cost 0.001419, acc 0.618200\n",
      "Epoch 12, CIFAR-10 Batch 5:  cost 0.004804, acc 0.624400\n",
      "Epoch 13, CIFAR-10 Batch 1:  cost 0.000771, acc 0.617200\n",
      "Epoch 13, CIFAR-10 Batch 2:  cost 0.001472, acc 0.615400\n",
      "Epoch 13, CIFAR-10 Batch 3:  cost 0.000555, acc 0.607600\n",
      "Epoch 13, CIFAR-10 Batch 4:  cost 0.001682, acc 0.606800\n",
      "Epoch 13, CIFAR-10 Batch 5:  cost 0.002096, acc 0.617400\n",
      "Epoch 14, CIFAR-10 Batch 1:  cost 0.001747, acc 0.606800\n",
      "Epoch 14, CIFAR-10 Batch 2:  cost 0.002273, acc 0.603600\n",
      "Epoch 14, CIFAR-10 Batch 3:  cost 0.002069, acc 0.606600\n",
      "Epoch 14, CIFAR-10 Batch 4:  cost 0.003283, acc 0.596800\n",
      "Epoch 14, CIFAR-10 Batch 5:  cost 0.001351, acc 0.606400\n",
      "Epoch 15, CIFAR-10 Batch 1:  cost 0.001390, acc 0.614400\n",
      "Epoch 15, CIFAR-10 Batch 2:  cost 0.000497, acc 0.613200\n",
      "Epoch 15, CIFAR-10 Batch 3:  cost 0.001232, acc 0.617400\n",
      "Epoch 15, CIFAR-10 Batch 4:  cost 0.001794, acc 0.621200\n",
      "Epoch 15, CIFAR-10 Batch 5:  cost 0.003784, acc 0.591400\n",
      "Epoch 16, CIFAR-10 Batch 1:  cost 0.003465, acc 0.618000\n",
      "Epoch 16, CIFAR-10 Batch 2:  cost 0.000501, acc 0.611800\n",
      "Epoch 16, CIFAR-10 Batch 3:  cost 0.001767, acc 0.615800\n",
      "Epoch 16, CIFAR-10 Batch 4:  cost 0.005844, acc 0.607600\n",
      "Epoch 16, CIFAR-10 Batch 5:  cost 0.004316, acc 0.615800\n",
      "Epoch 17, CIFAR-10 Batch 1:  cost 0.001406, acc 0.623800\n",
      "Epoch 17, CIFAR-10 Batch 2:  cost 0.000719, acc 0.607800\n",
      "Epoch 17, CIFAR-10 Batch 3:  cost 0.000783, acc 0.615000\n",
      "Epoch 17, CIFAR-10 Batch 4:  cost 0.000578, acc 0.605600\n",
      "Epoch 17, CIFAR-10 Batch 5:  cost 0.000725, acc 0.616000\n",
      "Epoch 18, CIFAR-10 Batch 1:  cost 0.001397, acc 0.613600\n",
      "Epoch 18, CIFAR-10 Batch 2:  cost 0.000760, acc 0.607600\n",
      "Epoch 18, CIFAR-10 Batch 3:  cost 0.000966, acc 0.602600\n",
      "Epoch 18, CIFAR-10 Batch 4:  cost 0.000508, acc 0.621600\n",
      "Epoch 18, CIFAR-10 Batch 5:  cost 0.000137, acc 0.615600\n",
      "Epoch 19, CIFAR-10 Batch 1:  cost 0.001289, acc 0.615200\n",
      "Epoch 19, CIFAR-10 Batch 2:  cost 0.002831, acc 0.617800\n",
      "Epoch 19, CIFAR-10 Batch 3:  cost 0.000376, acc 0.614000\n",
      "Epoch 19, CIFAR-10 Batch 4:  cost 0.000417, acc 0.625200\n",
      "Epoch 19, CIFAR-10 Batch 5:  cost 0.000930, acc 0.623000\n",
      "Epoch 20, CIFAR-10 Batch 1:  cost 0.001467, acc 0.618400\n",
      "Epoch 20, CIFAR-10 Batch 2:  cost 0.000826, acc 0.623800\n",
      "Epoch 20, CIFAR-10 Batch 3:  cost 0.000560, acc 0.622400\n",
      "Epoch 20, CIFAR-10 Batch 4:  cost 0.000107, acc 0.620800\n",
      "Epoch 20, CIFAR-10 Batch 5:  cost 0.000606, acc 0.626800\n",
      "Epoch 21, CIFAR-10 Batch 1:  cost 0.001255, acc 0.625200\n",
      "Epoch 21, CIFAR-10 Batch 2:  cost 0.000547, acc 0.622400\n",
      "Epoch 21, CIFAR-10 Batch 3:  cost 0.000762, acc 0.622600\n",
      "Epoch 21, CIFAR-10 Batch 4:  cost 0.000823, acc 0.614800\n",
      "Epoch 21, CIFAR-10 Batch 5:  cost 0.000338, acc 0.622400\n",
      "Epoch 22, CIFAR-10 Batch 1:  cost 0.000483, acc 0.629600\n",
      "Epoch 22, CIFAR-10 Batch 2:  cost 0.000691, acc 0.621400\n",
      "Epoch 22, CIFAR-10 Batch 3:  cost 0.000573, acc 0.623000\n",
      "Epoch 22, CIFAR-10 Batch 4:  cost 0.000594, acc 0.618800\n",
      "Epoch 22, CIFAR-10 Batch 5:  cost 0.000827, acc 0.623800\n",
      "Epoch 23, CIFAR-10 Batch 1:  cost 0.001031, acc 0.617000\n",
      "Epoch 23, CIFAR-10 Batch 2:  cost 0.000142, acc 0.620000\n",
      "Epoch 23, CIFAR-10 Batch 3:  cost 0.000624, acc 0.622800\n",
      "Epoch 23, CIFAR-10 Batch 4:  cost 0.001450, acc 0.610400\n",
      "Epoch 23, CIFAR-10 Batch 5:  cost 0.000428, acc 0.623400\n",
      "Epoch 24, CIFAR-10 Batch 1:  cost 0.000408, acc 0.631800\n",
      "Epoch 24, CIFAR-10 Batch 2:  cost 0.000121, acc 0.622800\n",
      "Epoch 24, CIFAR-10 Batch 3:  cost 0.000274, acc 0.622600\n",
      "Epoch 24, CIFAR-10 Batch 4:  cost 0.000193, acc 0.609400\n",
      "Epoch 24, CIFAR-10 Batch 5:  cost 0.001316, acc 0.623000\n",
      "Epoch 25, CIFAR-10 Batch 1:  cost 0.001458, acc 0.614400\n",
      "Epoch 25, CIFAR-10 Batch 2:  cost 0.001168, acc 0.617000\n",
      "Epoch 25, CIFAR-10 Batch 3:  cost 0.000413, acc 0.625200\n",
      "Epoch 25, CIFAR-10 Batch 4:  cost 0.000712, acc 0.612400\n",
      "Epoch 25, CIFAR-10 Batch 5:  cost 0.000603, acc 0.619400\n",
      "Epoch 26, CIFAR-10 Batch 1:  cost 0.000247, acc 0.627600\n",
      "Epoch 26, CIFAR-10 Batch 2:  cost 0.000059, acc 0.615400\n",
      "Epoch 26, CIFAR-10 Batch 3:  cost 0.001747, acc 0.619200\n",
      "Epoch 26, CIFAR-10 Batch 4:  cost 0.000364, acc 0.619800\n",
      "Epoch 26, CIFAR-10 Batch 5:  cost 0.000957, acc 0.617200\n",
      "Epoch 27, CIFAR-10 Batch 1:  cost 0.000992, acc 0.621200\n",
      "Epoch 27, CIFAR-10 Batch 2:  cost 0.000550, acc 0.620600\n",
      "Epoch 27, CIFAR-10 Batch 3:  cost 0.000182, acc 0.616000\n",
      "Epoch 27, CIFAR-10 Batch 4:  cost 0.000384, acc 0.621000\n",
      "Epoch 27, CIFAR-10 Batch 5:  cost 0.000677, acc 0.626000\n",
      "Epoch 28, CIFAR-10 Batch 1:  cost 0.000047, acc 0.620000\n",
      "Epoch 28, CIFAR-10 Batch 2:  cost 0.001032, acc 0.625600\n",
      "Epoch 28, CIFAR-10 Batch 3:  cost 0.000377, acc 0.621400\n",
      "Epoch 28, CIFAR-10 Batch 4:  cost 0.000417, acc 0.625800\n",
      "Epoch 28, CIFAR-10 Batch 5:  cost 0.000140, acc 0.627000\n",
      "Epoch 29, CIFAR-10 Batch 1:  cost 0.000174, acc 0.630200\n",
      "Epoch 29, CIFAR-10 Batch 2:  cost 0.000266, acc 0.616600\n",
      "Epoch 29, CIFAR-10 Batch 3:  cost 0.000081, acc 0.621200\n",
      "Epoch 29, CIFAR-10 Batch 4:  cost 0.000403, acc 0.627400\n",
      "Epoch 29, CIFAR-10 Batch 5:  cost 0.000175, acc 0.624000\n",
      "Epoch 30, CIFAR-10 Batch 1:  cost 0.000497, acc 0.624400\n",
      "Epoch 30, CIFAR-10 Batch 2:  cost 0.002401, acc 0.622000\n",
      "Epoch 30, CIFAR-10 Batch 3:  cost 0.000340, acc 0.614400\n",
      "Epoch 30, CIFAR-10 Batch 4:  cost 0.000198, acc 0.621600\n",
      "Epoch 30, CIFAR-10 Batch 5:  cost 0.000172, acc 0.623600\n",
      "Epoch 31, CIFAR-10 Batch 1:  cost 0.005407, acc 0.624400\n",
      "Epoch 31, CIFAR-10 Batch 2:  cost 0.000365, acc 0.621800\n",
      "Epoch 31, CIFAR-10 Batch 3:  cost 0.000048, acc 0.623200\n",
      "Epoch 31, CIFAR-10 Batch 4:  cost 0.000387, acc 0.621000\n",
      "Epoch 31, CIFAR-10 Batch 5:  cost 0.000228, acc 0.625600\n",
      "Epoch 32, CIFAR-10 Batch 1:  cost 0.000689, acc 0.621800\n",
      "Epoch 32, CIFAR-10 Batch 2:  cost 0.000343, acc 0.627800\n",
      "Epoch 32, CIFAR-10 Batch 3:  cost 0.000174, acc 0.626400\n",
      "Epoch 32, CIFAR-10 Batch 4:  cost 0.000551, acc 0.619400\n",
      "Epoch 32, CIFAR-10 Batch 5:  cost 0.000595, acc 0.627400\n",
      "Epoch 33, CIFAR-10 Batch 1:  cost 0.000259, acc 0.622800\n",
      "Epoch 33, CIFAR-10 Batch 2:  cost 0.000300, acc 0.620400\n",
      "Epoch 33, CIFAR-10 Batch 3:  cost 0.000212, acc 0.623800\n",
      "Epoch 33, CIFAR-10 Batch 4:  cost 0.000331, acc 0.614200\n",
      "Epoch 33, CIFAR-10 Batch 5:  cost 0.000721, acc 0.621800\n",
      "Epoch 34, CIFAR-10 Batch 1:  cost 0.000264, acc 0.621800\n",
      "Epoch 34, CIFAR-10 Batch 2:  cost 0.000556, acc 0.626800\n",
      "Epoch 34, CIFAR-10 Batch 3:  cost 0.000571, acc 0.627800\n",
      "Epoch 34, CIFAR-10 Batch 4:  cost 0.000428, acc 0.614000\n",
      "Epoch 34, CIFAR-10 Batch 5:  cost 0.000369, acc 0.626000\n",
      "Epoch 35, CIFAR-10 Batch 1:  cost 0.000221, acc 0.624400\n",
      "Epoch 35, CIFAR-10 Batch 2:  cost 0.000019, acc 0.628600\n",
      "Epoch 35, CIFAR-10 Batch 3:  cost 0.000016, acc 0.629800\n",
      "Epoch 35, CIFAR-10 Batch 4:  cost 0.000255, acc 0.619200\n",
      "Epoch 35, CIFAR-10 Batch 5:  cost 0.001083, acc 0.623600\n",
      "Epoch 36, CIFAR-10 Batch 1:  cost 0.000026, acc 0.624800\n",
      "Epoch 36, CIFAR-10 Batch 2:  cost 0.000463, acc 0.619200\n",
      "Epoch 36, CIFAR-10 Batch 3:  cost 0.000012, acc 0.625600\n",
      "Epoch 36, CIFAR-10 Batch 4:  cost 0.000468, acc 0.615000\n",
      "Epoch 36, CIFAR-10 Batch 5:  cost 0.000173, acc 0.622200\n",
      "Epoch 37, CIFAR-10 Batch 1:  cost 0.000067, acc 0.629000\n",
      "Epoch 37, CIFAR-10 Batch 2:  cost 0.000060, acc 0.628400\n",
      "Epoch 37, CIFAR-10 Batch 3:  cost 0.000427, acc 0.624000\n",
      "Epoch 37, CIFAR-10 Batch 4:  cost 0.000029, acc 0.622400\n",
      "Epoch 37, CIFAR-10 Batch 5:  cost 0.000060, acc 0.626400\n",
      "Epoch 38, CIFAR-10 Batch 1:  cost 0.000464, acc 0.616000\n",
      "Epoch 38, CIFAR-10 Batch 2:  cost 0.000380, acc 0.626400\n",
      "Epoch 38, CIFAR-10 Batch 3:  cost 0.000423, acc 0.626200\n",
      "Epoch 38, CIFAR-10 Batch 4:  cost 0.000037, acc 0.621000\n",
      "Epoch 38, CIFAR-10 Batch 5:  cost 0.000158, acc 0.619600\n",
      "Epoch 39, CIFAR-10 Batch 1:  cost 0.000280, acc 0.623600\n",
      "Epoch 39, CIFAR-10 Batch 2:  cost 0.000804, acc 0.624200\n",
      "Epoch 39, CIFAR-10 Batch 3:  cost 0.000306, acc 0.624400\n",
      "Epoch 39, CIFAR-10 Batch 4:  cost 0.000324, acc 0.620200\n",
      "Epoch 39, CIFAR-10 Batch 5:  cost 0.000618, acc 0.621800\n",
      "Epoch 40, CIFAR-10 Batch 1:  cost 0.000050, acc 0.619800\n",
      "Epoch 40, CIFAR-10 Batch 2:  cost 0.000496, acc 0.619000\n",
      "Epoch 40, CIFAR-10 Batch 3:  cost 0.000527, acc 0.626400\n",
      "Epoch 40, CIFAR-10 Batch 4:  cost 0.000455, acc 0.614400\n",
      "Epoch 40, CIFAR-10 Batch 5:  cost 0.000091, acc 0.630600\n",
      "Epoch 41, CIFAR-10 Batch 1:  cost 0.000118, acc 0.620000\n",
      "Epoch 41, CIFAR-10 Batch 2:  cost 0.000232, acc 0.622000\n",
      "Epoch 41, CIFAR-10 Batch 3:  cost 0.000170, acc 0.622600\n",
      "Epoch 41, CIFAR-10 Batch 4:  cost 0.000112, acc 0.621000\n",
      "Epoch 41, CIFAR-10 Batch 5:  cost 0.000738, acc 0.619600\n",
      "Epoch 42, CIFAR-10 Batch 1:  cost 0.000165, acc 0.623000\n",
      "Epoch 42, CIFAR-10 Batch 2:  cost 0.000107, acc 0.620800\n",
      "Epoch 42, CIFAR-10 Batch 3:  cost 0.000006, acc 0.622600\n",
      "Epoch 42, CIFAR-10 Batch 4:  cost 0.000524, acc 0.619000\n",
      "Epoch 42, CIFAR-10 Batch 5:  cost 0.000341, acc 0.619000\n",
      "Epoch 43, CIFAR-10 Batch 1:  cost 0.000419, acc 0.620000\n",
      "Epoch 43, CIFAR-10 Batch 2:  cost 0.000092, acc 0.617000\n",
      "Epoch 43, CIFAR-10 Batch 3:  cost 0.000099, acc 0.617800\n",
      "Epoch 43, CIFAR-10 Batch 4:  cost 0.000049, acc 0.613400\n",
      "Epoch 43, CIFAR-10 Batch 5:  cost 0.000210, acc 0.622400\n",
      "Epoch 44, CIFAR-10 Batch 1:  cost 0.000048, acc 0.619800\n",
      "Epoch 44, CIFAR-10 Batch 2:  cost 0.000069, acc 0.620600\n",
      "Epoch 44, CIFAR-10 Batch 3:  cost 0.000135, acc 0.620800\n",
      "Epoch 44, CIFAR-10 Batch 4:  cost 0.000042, acc 0.617000\n",
      "Epoch 44, CIFAR-10 Batch 5:  cost 0.000198, acc 0.626600\n",
      "Epoch 45, CIFAR-10 Batch 1:  cost 0.000180, acc 0.620000\n",
      "Epoch 45, CIFAR-10 Batch 2:  cost 0.000307, acc 0.618800\n",
      "Epoch 45, CIFAR-10 Batch 3:  cost 0.000125, acc 0.616200\n",
      "Epoch 45, CIFAR-10 Batch 4:  cost 0.000025, acc 0.612800\n",
      "Epoch 45, CIFAR-10 Batch 5:  cost 0.000515, acc 0.624200\n",
      "Epoch 46, CIFAR-10 Batch 1:  cost 0.000635, acc 0.625000\n",
      "Epoch 46, CIFAR-10 Batch 2:  cost 0.000086, acc 0.619600\n",
      "Epoch 46, CIFAR-10 Batch 3:  cost 0.000262, acc 0.612600\n",
      "Epoch 46, CIFAR-10 Batch 4:  cost 0.000569, acc 0.618400\n",
      "Epoch 46, CIFAR-10 Batch 5:  cost 0.000546, acc 0.618800\n",
      "Epoch 47, CIFAR-10 Batch 1:  cost 0.000362, acc 0.621800\n",
      "Epoch 47, CIFAR-10 Batch 2:  cost 0.000176, acc 0.621000\n",
      "Epoch 47, CIFAR-10 Batch 3:  cost 0.000433, acc 0.621200\n",
      "Epoch 47, CIFAR-10 Batch 4:  cost 0.000362, acc 0.613600\n",
      "Epoch 47, CIFAR-10 Batch 5:  cost 0.000180, acc 0.617600\n",
      "Epoch 48, CIFAR-10 Batch 1:  cost 0.000327, acc 0.628400\n",
      "Epoch 48, CIFAR-10 Batch 2:  cost 0.000657, acc 0.621600\n",
      "Epoch 48, CIFAR-10 Batch 3:  cost 0.000127, acc 0.625000\n",
      "Epoch 48, CIFAR-10 Batch 4:  cost 0.000016, acc 0.627400\n",
      "Epoch 48, CIFAR-10 Batch 5:  cost 0.001146, acc 0.616400\n"
     ]
    }
   ],
   "source": [
    "\"\"\"\n",
    "DON'T MODIFY ANYTHING IN THIS CELL\n",
    "\"\"\"\n",
    "save_model_path = './image_classification'\n",
    "\n",
    "print('Training...')\n",
    "with tf.Session() as sess:\n",
    "    # Initializing the variables\n",
    "    sess.run(tf.global_variables_initializer())\n",
    "    \n",
    "    # Training cycle\n",
    "    for epoch in range(epochs):\n",
    "        # Loop over all batches\n",
    "        n_batches = 5\n",
    "        for batch_i in range(1, n_batches + 1):\n",
    "            for batch_features, batch_labels in helper.load_preprocess_training_batch(batch_i, batch_size):\n",
    "                train_neural_network(sess, optimizer, keep_probability, batch_features, batch_labels)\n",
    "            print('Epoch {:>2}, CIFAR-10 Batch {}:  '.format(epoch + 1, batch_i), end='')\n",
    "            print_stats(sess, batch_features, batch_labels, cost, accuracy)\n",
    "            \n",
    "    # Save Model\n",
    "    saver = tf.train.Saver()\n",
    "    save_path = saver.save(sess, save_model_path)"
   ]
  },
  {
   "cell_type": "markdown",
   "metadata": {
    "deletable": true,
    "editable": true
   },
   "source": [
    "# Checkpoint\n",
    "The model has been saved to disk.\n",
    "## Test Model\n",
    "Test your model against the test dataset.  This will be your final accuracy. You should have an accuracy greater than 50%. If you don't, keep tweaking the model architecture and parameters."
   ]
  },
  {
   "cell_type": "code",
   "execution_count": 32,
   "metadata": {
    "collapsed": false,
    "deletable": true,
    "editable": true
   },
   "outputs": [
    {
     "name": "stdout",
     "output_type": "stream",
     "text": [
      "Testing Accuracy: 0.61220703125\n",
      "\n"
     ]
    },
    {
     "data": {
      "image/png": "[encoded data removed]",
      "text/plain": [
       "<matplotlib.figure.Figure at 0x7fde8fc27c88>"
      ]
     },
     "metadata": {
      "image/png": {
       "height": 319,
       "width": 355
      }
     },
     "output_type": "display_data"
    }
   ],
   "source": [
    "\"\"\"\n",
    "DON'T MODIFY ANYTHING IN THIS CELL\n",
    "\"\"\"\n",
    "%matplotlib inline\n",
    "%config InlineBackend.figure_format = 'retina'\n",
    "\n",
    "import tensorflow as tf\n",
    "import pickle\n",
    "import helper\n",
    "import random\n",
    "\n",
    "# Set batch size if not already set\n",
    "try:\n",
    "    if batch_size:\n",
    "        pass\n",
    "except NameError:\n",
    "    batch_size = 64\n",
    "\n",
    "save_model_path = './image_classification'\n",
    "n_samples = 4\n",
    "top_n_predictions = 3\n",
    "\n",
    "def test_model():\n",
    "    \"\"\"\n",
    "    Test the saved model against the test dataset\n",
    "    \"\"\"\n",
    "\n",
    "    test_features, test_labels = pickle.load(open('preprocess_training.p', mode='rb'))\n",
    "    loaded_graph = tf.Graph()\n",
    "\n",
    "    with tf.Session(graph=loaded_graph) as sess:\n",
    "        # Load model\n",
    "        loader = tf.train.import_meta_graph(save_model_path + '.meta')\n",
    "        loader.restore(sess, save_model_path)\n",
    "\n",
    "        # Get Tensors from loaded model\n",
    "        loaded_x = loaded_graph.get_tensor_by_name('x:0')\n",
    "        loaded_y = loaded_graph.get_tensor_by_name('y:0')\n",
    "        loaded_keep_prob = loaded_graph.get_tensor_by_name('keep_prob:0')\n",
    "        loaded_logits = loaded_graph.get_tensor_by_name('logits:0')\n",
    "        loaded_acc = loaded_graph.get_tensor_by_name('accuracy:0')\n",
    "        \n",
    "        # Get accuracy in batches for memory limitations\n",
    "        test_batch_acc_total = 0\n",
    "        test_batch_count = 0\n",
    "        \n",
    "        for train_feature_batch, train_label_batch in helper.batch_features_labels(test_features, test_labels, batch_size):\n",
    "            test_batch_acc_total += sess.run(\n",
    "                loaded_acc,\n",
    "                feed_dict={loaded_x: train_feature_batch, loaded_y: train_label_batch, loaded_keep_prob: 1.0})\n",
    "            test_batch_count += 1\n",
    "\n",
    "        print('Testing Accuracy: {}\\n'.format(test_batch_acc_total/test_batch_count))\n",
    "\n",
    "        # Print Random Samples\n",
    "        random_test_features, random_test_labels = tuple(zip(*random.sample(list(zip(test_features, test_labels)), n_samples)))\n",
    "        random_test_predictions = sess.run(\n",
    "            tf.nn.top_k(tf.nn.softmax(loaded_logits), top_n_predictions),\n",
    "            feed_dict={loaded_x: random_test_features, loaded_y: random_test_labels, loaded_keep_prob: 1.0})\n",
    "        helper.display_image_predictions(random_test_features, random_test_labels, random_test_predictions)\n",
    "\n",
    "\n",
    "test_model()"
   ]
  },
  {
   "cell_type": "markdown",
   "metadata": {
    "deletable": true,
    "editable": true
   },
   "source": [
    "## Why 50-70% Accuracy?\n",
    "You might be wondering why you can't get an accuracy any higher. First things first, 50% isn't bad for a simple CNN.  Pure guessing would get you 10% accuracy. However, you might notice people are getting scores [well above 70%](http://rodrigob.github.io/are_we_there_yet/build/classification_datasets_results.html#43494641522d3130).  That's because we haven't taught you all there is to know about neural networks. We still need to cover a few more techniques.\n",
    "## Submitting This Project\n",
    "When submitting this project, make sure to run all the cells before saving the notebook.  Save the notebook file as \"dlnd_image_classification.ipynb\" and save it as a HTML file under \"File\" -> \"Download as\".  Include the \"helper.py\" and \"problem_unittests.py\" files in your submission."
   ]
  }
 ],
 "metadata": {
  "anaconda-cloud": {},
  "kernelspec": {
   "display_name": "Python 3",
   "language": "python",
   "name": "python3"
  },
  "language_info": {
   "codemirror_mode": {
    "name": "ipython",
    "version": 3
   },
   "file_extension": ".py",
   "mimetype": "text/x-python",
   "name": "python",
   "nbconvert_exporter": "python",
   "pygments_lexer": "ipython3",
   "version": "3.5.2"
  },
  "widgets": {
   "state": {},
   "version": "1.1.2"
  }
 },
 "nbformat": 4,
 "nbformat_minor": 0
}
